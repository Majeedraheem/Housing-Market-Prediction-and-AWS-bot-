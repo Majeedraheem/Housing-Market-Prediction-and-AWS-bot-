{
 "cells": [
  {
   "cell_type": "code",
   "execution_count": null,
   "id": "0598f8ab-2d4a-456d-bb0d-38027f56ad35",
   "metadata": {},
   "outputs": [],
   "source": [
    "import json\n",
    "from datetime import datetime\n",
    "from dateutil.relativedelta import relativedelta\n",
    "from botocore.vendored import requests\n",
    "\n",
    "### Functionality Helper Functions ###\n",
    "def parse_float(n):\n",
    "    \"\"\"\n",
    "    Securely converts a non-numeric value to float.\n",
    "    \"\"\"\n",
    "    try:\n",
    "        return float(n)\n",
    "    except ValueError:\n",
    "        return float(\"nan\")\n",
    "\n",
    "def lambda_handler(event, context):\n",
    "    # Parse the input event\n",
    "    intent_name = event['currentIntent']['name']\n",
    "\n",
    "    # Check the intent name\n",
    "    if intent_name == 'GetHPI':\n",
    "        # Call your model or perform necessary computations to get the HPI\n",
    "        hpi = get_hpi()\n",
    "\n",
    "        # Prepare the response\n",
    "        response = {\n",
    "            'dialogAction': {\n",
    "                'type': 'Close',\n",
    "                'fulfillmentState': 'Fulfilled',\n",
    "                'message': {\n",
    "                    'contentType': 'PlainText',\n",
    "                    'content': f\"The House Price Index is {hpi}.\"\n",
    "                }\n",
    "            }\n",
    "        }\n",
    "\n",
    "        return response\n",
    "\n",
    "def get_hpi():\n",
    "    hpi = \n",
    "\n",
    "    return hpi\n"
   ]
  }
 ],
 "metadata": {
  "kernelspec": {
   "display_name": "Python 3 (ipykernel)",
   "language": "python",
   "name": "python3"
  },
  "language_info": {
   "codemirror_mode": {
    "name": "ipython",
    "version": 3
   },
   "file_extension": ".py",
   "mimetype": "text/x-python",
   "name": "python",
   "nbconvert_exporter": "python",
   "pygments_lexer": "ipython3",
   "version": "3.11.4"
  }
 },
 "nbformat": 4,
 "nbformat_minor": 5
}
